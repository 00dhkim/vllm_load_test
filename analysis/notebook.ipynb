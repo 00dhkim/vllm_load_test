{
 "cells": [
  {
   "cell_type": "markdown",
   "metadata": {},
   "source": [
    "# vLLM Scaling Experiment Analysis"
   ]
  },
  {
   "cell_type": "markdown",
   "metadata": {},
   "source": [
    "## 1. Setup and Data Loading\n",
    "\n",
    "Load the aggregated experiment results from `summary_metrics.parquet` and prepare the data for analysis."
   ]
  },
  {
   "cell_type": "code",
   "execution_count": null,
   "metadata": {},
   "outputs": [],
   "source": [
    "import pandas as pd\n",
    "import seaborn as sns\n",
    "import matplotlib.pyplot as plt\n",
    "\n",
    "# Load the aggregated data\n",
    "try:\n",
    "    df = pd.read_parquet('../results/agg/summary_metrics.parquet')\n",
    "    print(\"Successfully loaded summary_metrics.parquet\")\n",
    "    print(f\"Data shape: {df.shape}\")\n",
    "    print(\"Columns:\", df.columns.tolist())\n",
    "except FileNotFoundError:\n",
    "    print(\"Error: summary_metrics.parquet not found. Please run scripts/aggregate_metrics.py first.\")\n",
    "\n",
    "# Set plot style\n",
    "sns.set_theme(style=\"whitegrid\")"
   ]
  },
  {
   "cell_type": "markdown",
   "metadata": {},
   "source": [
    "## 2. Throughput Analysis\n",
    "\n",
    "Analyze how throughput scales with the number of GPUs. We will look at both requests/sec and total tokens/sec."
   ]
  },
  {
   "cell_type": "code",
   "execution_count": null,
   "metadata": {},
   "outputs": [],
   "source": [
    "if 'df' in locals():\n",
    "    # Plot 1: Request Throughput Scaling\n",
    "    plt.figure(figsize=(12, 6))\n",
    "    sns.barplot(data=df, x='gpu_count', y='request_throughput_req_s', hue='prompt_profile', ci=None)\n",
    "    plt.title('Request Throughput (req/s) vs. GPU Count')\n",
    "    plt.xlabel('Number of GPUs')\n",
    "    plt.ylabel('Requests per Second')\n",
    "    plt.savefig('../results/figs/throughput_scaling_req_s.png')\n",
    "    plt.show()\n",
    "\n",
    "    # Plot 2: Total Token Throughput Scaling\n",
    "    plt.figure(figsize=(12, 6))\n",
    "    sns.barplot(data=df, x='gpu_count', y='total_token_throughput_tok_s', hue='prompt_profile', ci=None)\n",
    "    plt.title('Total Token Throughput (tokens/s) vs. GPU Count')\n",
    "    plt.xlabel('Number of GPUs')\n",
    "    plt.ylabel('Total Tokens per Second')\n",
    "    plt.savefig('../results/figs/throughput_scaling_tok_s.png')\n",
    "    plt.show()"
   ]
  },
  {
   "cell_type": "markdown",
   "metadata": {},
   "source": [
    "## 3. Latency Analysis\n",
    "\n",
    "Analyze different latency metrics (TTFT, TPOT) across different configurations."
   ]
  },
  {
   "cell_type": "code",
   "execution_count": null,
   "metadata": {},
   "outputs": [],
   "source": [
    "if 'df' in locals():\n",
    "    # Plot 3: Mean Time to First Token (TTFT)\n",
    "    plt.figure(figsize=(12, 6))\n",
    "    sns.pointplot(data=df, x='gpu_count', y='mean_ttft_ms', hue='prompt_profile', dodge=True, linestyles='--')\n",
    "    plt.title('Mean Time to First Token (TTFT) vs. GPU Count')\n",
    "    plt.xlabel('Number of GPUs')\n",
    "    plt.ylabel('Mean TTFT (ms)')\n",
    "    plt.savefig('../results/figs/latency_ttft.png')\n",
    "    plt.show()\n",
    "\n",
    "    # Plot 4: Mean Time Per Output Token (TPOT)\n",
    "    plt.figure(figsize=(12, 6))\n",
    "    sns.pointplot(data=df, x='gpu_count', y='mean_tpot_ms', hue='prompt_profile', dodge=True, linestyles='--')\n",
    "    plt.title('Mean Time Per Output Token (TPOT) vs. GPU Count')\n",
    "    plt.xlabel('Number of GPUs')\n",
    "    plt.ylabel('Mean TPOT (ms)')\n",
    "    plt.savefig('../results/figs/latency_tpot.png')\n",
    "    plt.show()"
   ]
  },
  {
   "cell_type": "markdown",
   "metadata": {},
   "source": [
    "## 4. Throughput vs. Latency Trade-off\n",
    "\n",
    "Visualize the relationship between throughput and latency to understand the performance trade-offs."
   ]
  },
  {
   "cell_type": "code",
   "execution_count": null,
   "metadata": {},
   "outputs": [],
   "source": [
    "if 'df' in locals():\n",
    "    plt.figure(figsize=(12, 8))\n",
    "    sns.scatterplot(data=df, x='total_token_throughput_tok_s', y='mean_ttft_ms', hue='gpu_count', style='prompt_profile', s=150)\n",
    "    plt.title('Throughput vs. Latency (TTFT)')\n",
    "    plt.xlabel('Total Token Throughput (tokens/s)')\n",
    "    plt.ylabel('Mean Time to First Token (ms)')\n",
    "    plt.legend(title='Configuration', bbox_to_anchor=(1.05, 1), loc='upper left')\n",
    "    plt.grid(True)\n",
    "    plt.savefig('../results/figs/tradeoff_throughput_vs_latency.png')\n",
    "    plt.show()"
   ]
  },
  {
   "cell_type": "markdown",
   "metadata": {},
   "source": [
    "## 5. Amdahl's Law Analysis\n",
    "\n",
    "Load the `amdahl_fit.csv` data to see the calculated speedup and the estimated sequential portion (`s`) of the workload."
   ]
  },
  {
   "cell_type": "code",
   "execution_count": null,
   "metadata": {},
   "outputs": [],
   "source": [
    "try:\n",
    "    amdahl_df = pd.read_csv('../results/agg/amdahl_fit.csv')\n",
    "    print(\"Amdahl's Law Analysis Results:\")\n",
    "    display(amdahl_df)\n",
    "except FileNotFoundError:\n",
    "    print(\"amdahl_fit.csv not found. Please run scripts/amdahl_fit.py first.\")"
   ]
  }
 ],
 "metadata": {
  "kernelspec": {
   "display_name": "Python 3",
   "language": "python",
   "name": "python3"
  },
  "language_info": {
   "codemirror_mode": {
    "name": "ipython",
    "version": 3
   },
   "file_extension": ".py",
   "mimetype": "text/x-python",
   "name": "python",
   "nbconvert_exporter": "python",
   "pygments_lexer": "ipython3",
   "version": "3.10.12"
  }
 },
 "nbformat": 4,
 "nbformat_minor": 4
}