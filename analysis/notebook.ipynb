{
 "cells": [
  {
   "cell_type": "code",
   "execution_count": null,
   "metadata": {},
   "outputs": [],
   "source": [
    "import pandas as pd, seaborn as sns, matplotlib.pyplot as plt\n",
    "agg = pd.read_parquet('../results/agg/summary_metrics.parquet')\n",
    "# 1) Throughput scaling\n",
    "sns.lineplot(data=agg, x='gpu_count', y='tokens_sec', hue='prompt_profile')\n",
    "plt.title('Tokens/sec Scaling')\n",
    "plt.savefig('../results/figs/throughput_scaling.png')\n",
    "# 2) Latency CDF: raw per-request latency parquet 필요"
   ]
  }
 ],
 "metadata": {
  "kernelspec": {
   "display_name": "Python 3",
   "language": "python",
   "name": "python3"
  },
  "language_info": {
   "codemirror_mode": {
    "name": "ipython",
    "version": 3
   },
   "file_extension": ".py",
   "mimetype": "text/x-python",
   "name": "python",
   "nbconvert_exporter": "python",
   "pygments_lexer": "ipython3",
   "version": "3.10.12"
  }
 },
 "nbformat": 4,
 "nbformat_minor": 4
}
